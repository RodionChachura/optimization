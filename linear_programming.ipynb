{
 "cells": [
  {
   "cell_type": "code",
   "execution_count": 1,
   "metadata": {},
   "outputs": [],
   "source": [
    "from scipy.spatial import HalfspaceIntersection, ConvexHull\n",
    "import matplotlib.pyplot as plt\n",
    "from matplotlib.patches import Polygon\n",
    "import numpy as np\n",
    "\n",
    "def render_inequations(halfspaces, feasible_point, xlim, ylim):\n",
    "    hs = HalfspaceIntersection(np.array(halfspaces), feasible_point)\n",
    "    fig = plt.figure()\n",
    "    ax = fig.add_subplot('111', aspect='equal')\n",
    "    ax.set_xlim(xlim)\n",
    "    ax.set_ylim(ylim)\n",
    "\n",
    "    x = np.linspace(*xlim, 100)\n",
    "\n",
    "    for h in halfspaces:\n",
    "        if h[1]== 0:\n",
    "            ax.axvline(-h[2]/h[0], color=\"#2c3e50\")\n",
    "        else:\n",
    "            ax.plot(x, (-h[2]-h[0]*x)/h[1], color=\"#2c3e50\")\n",
    "    x, y = zip(*hs.intersections)\n",
    "    points = list(zip(x, y))\n",
    "    convex_hull = ConvexHull(points)\n",
    "    polygon = Polygon([points[v] for v in convex_hull.vertices], color=\"#34495e\")\n",
    "    ax.add_patch(polygon)\n",
    "    ax.plot(x, y, 'o', color=\"#e67e22\")"
   ]
  },
  {
   "cell_type": "code",
   "execution_count": 2,
   "metadata": {},
   "outputs": [
    {
     "data": {
      "image/png": "[encoded data removed]",
      "text/plain": [
       "<Figure size 432x288 with 1 Axes>"
      ]
     },
     "metadata": {},
     "output_type": "display_data"
    }
   ],
   "source": [
    "halfspaces = [\n",
    "    [-1, 0., 0.],    # x₁ ≥ 0\n",
    "    [0., -1., 0.],   # x₂ ≥ 0\n",
    "    [-1., 4., -13.], # 4x₂ - x₁ ≤ 13\n",
    "    [2., 1., -10.]   # x₂ + 2x₁ ≤ 10\n",
    "]\n",
    "feasible_point = np.array([0.5, 0.5])\n",
    "xlim = (-1, 6)\n",
    "render_inequations(halfspaces, feasible_point, xlim, xlim)"
   ]
  }
 ],
 "metadata": {
  "kernelspec": {
   "display_name": "Python 3",
   "language": "python",
   "name": "python3"
  },
  "language_info": {
   "codemirror_mode": {
    "name": "ipython",
    "version": 3
   },
   "file_extension": ".py",
   "mimetype": "text/x-python",
   "name": "python",
   "nbconvert_exporter": "python",
   "pygments_lexer": "ipython3",
   "version": "3.6.5"
  }
 },
 "nbformat": 4,
 "nbformat_minor": 2
}
